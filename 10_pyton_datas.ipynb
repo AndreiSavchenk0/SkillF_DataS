{
 "cells": [
  {
   "cell_type": "code",
   "execution_count": null,
   "metadata": {},
   "outputs": [],
   "source": []
  }
 ],
 "metadata": {
  "kernelspec": {
   "display_name": "Python 3",
   "language": "python",
   "name": "python3"
  },
  "language_info": {
   "name": "python",
   "version": "3.9.10 (tags/v3.9.10:f2f3f53, Jan 17 2022, 15:14:21) [MSC v.1929 64 bit (AMD64)]"
  },
  "orig_nbformat": 4,
  "vscode": {
   "interpreter": {
    "hash": "ab9a11e7f0f4a35235402e387d9d3681b73c259f6334d22d0bfff2e4494e133e"
   }
  }
 },
 "nbformat": 4,
 "nbformat_minor": 2
}
